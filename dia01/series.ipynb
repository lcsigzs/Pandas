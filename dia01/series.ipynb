{
 "cells": [
  {
   "cell_type": "code",
   "execution_count": 3,
   "id": "f5312798-f3e4-4c03-824c-3f3c14bbbb42",
   "metadata": {},
   "outputs": [],
   "source": [
    "import pandas as pd"
   ]
  },
  {
   "cell_type": "code",
   "execution_count": 6,
   "id": "086447fd-803b-44b8-9c2d-f342ffdfe887",
   "metadata": {},
   "outputs": [
    {
     "data": {
      "text/plain": [
       "[30, 42, 90, 34]"
      ]
     },
     "execution_count": 6,
     "metadata": {},
     "output_type": "execute_result"
    }
   ],
   "source": [
    "idades = [30, 42, 90, 34]\n",
    "idades"
   ]
  },
  {
   "cell_type": "code",
   "execution_count": 30,
   "id": "8036c627-a023-42c5-81e0-f3df94b5a3c5",
   "metadata": {},
   "outputs": [
    {
     "data": {
      "text/plain": [
       "(772.0, 49.0)"
      ]
     },
     "execution_count": 30,
     "metadata": {},
     "output_type": "execute_result"
    }
   ],
   "source": [
    "media = sum(idades) / len(idades)\n",
    "total = 0 \n",
    "for i in idades:\n",
    "    total += (media - i) ** 2\n",
    "\n",
    "variancia = total / (len(idades) - 1)\n",
    "variancia, media"
   ]
  },
  {
   "cell_type": "code",
   "execution_count": 18,
   "id": "e61c4a64-fa11-4ed2-84b4-37956a0db7c8",
   "metadata": {},
   "outputs": [],
   "source": [
    "series_idades = pd.Series(idades)"
   ]
  },
  {
   "cell_type": "code",
   "execution_count": 32,
   "id": "d29500d3-2704-4865-b465-696689b53722",
   "metadata": {},
   "outputs": [
    {
     "data": {
      "text/plain": [
       "38.0"
      ]
     },
     "execution_count": 32,
     "metadata": {},
     "output_type": "execute_result"
    }
   ],
   "source": [
    "series_idades.mean()"
   ]
  },
  {
   "cell_type": "code",
   "execution_count": 34,
   "id": "37d0f220-7bbb-473a-9ff3-7730d0a71bf8",
   "metadata": {},
   "outputs": [
    {
     "data": {
      "text/plain": [
       "772.0"
      ]
     },
     "execution_count": 34,
     "metadata": {},
     "output_type": "execute_result"
    }
   ],
   "source": [
    "series_idades.var()"
   ]
  },
  {
   "cell_type": "code",
   "execution_count": 36,
   "id": "cf2c37fe-80af-46b3-9561-274b2a44e570",
   "metadata": {},
   "outputs": [
    {
     "data": {
      "text/plain": [
       "49.0"
      ]
     },
     "execution_count": 36,
     "metadata": {},
     "output_type": "execute_result"
    }
   ],
   "source": [
    "series_idades.median()"
   ]
  },
  {
   "cell_type": "code",
   "execution_count": 38,
   "id": "d9d210b4-345b-4cc3-8d91-dd946cda449c",
   "metadata": {},
   "outputs": [
    {
     "data": {
      "text/plain": [
       "27.784887978899608"
      ]
     },
     "execution_count": 38,
     "metadata": {},
     "output_type": "execute_result"
    }
   ],
   "source": [
    "series_idades.std()"
   ]
  },
  {
   "cell_type": "code",
   "execution_count": 40,
   "id": "fed6cb48-3f91-4bc3-8cb1-99cb6f735301",
   "metadata": {},
   "outputs": [
    {
     "data": {
      "text/plain": [
       "54.0"
      ]
     },
     "execution_count": 40,
     "metadata": {},
     "output_type": "execute_result"
    }
   ],
   "source": [
    "series_idades.quantile(0.75)"
   ]
  },
  {
   "cell_type": "code",
   "execution_count": 42,
   "id": "df261e33-432e-479b-a1b0-071dc052d96f",
   "metadata": {},
   "outputs": [
    {
     "data": {
      "text/plain": [
       "count     4.000000\n",
       "mean     49.000000\n",
       "std      27.784888\n",
       "min      30.000000\n",
       "25%      33.000000\n",
       "50%      38.000000\n",
       "75%      54.000000\n",
       "max      90.000000\n",
       "dtype: float64"
      ]
     },
     "execution_count": 42,
     "metadata": {},
     "output_type": "execute_result"
    }
   ],
   "source": [
    "series_idades.describe()"
   ]
  },
  {
   "cell_type": "code",
   "execution_count": 46,
   "id": "0418d9c9-5aa6-4c8b-bc3c-9e3546c39a55",
   "metadata": {},
   "outputs": [
    {
     "data": {
      "text/plain": [
       "(4,)"
      ]
     },
     "execution_count": 46,
     "metadata": {},
     "output_type": "execute_result"
    }
   ],
   "source": [
    "series_idades.shape"
   ]
  },
  {
   "cell_type": "code",
   "execution_count": 54,
   "id": "06d4df1e-b2b4-4d9c-aad4-22558888bca6",
   "metadata": {},
   "outputs": [],
   "source": [
    "series_idades.index = [ 't', 'e', 'o', 'c']"
   ]
  },
  {
   "cell_type": "code",
   "execution_count": 66,
   "id": "1cb51c1b-7c0c-4974-a621-8b3482e37407",
   "metadata": {},
   "outputs": [
    {
     "data": {
      "text/plain": [
       "34"
      ]
     },
     "execution_count": 66,
     "metadata": {},
     "output_type": "execute_result"
    }
   ],
   "source": [
    "series_idades['c']"
   ]
  },
  {
   "cell_type": "code",
   "execution_count": 68,
   "id": "7e25b38f-0982-4e1b-8259-50b22df2063f",
   "metadata": {},
   "outputs": [
    {
     "data": {
      "text/plain": [
       "40    30\n",
       "10    42\n",
       "30    90\n",
       "20    34\n",
       "dtype: int64"
      ]
     },
     "execution_count": 68,
     "metadata": {},
     "output_type": "execute_result"
    }
   ],
   "source": [
    "series_idades.index = [ 40, 10, 30, 20]\n",
    "series_idades"
   ]
  },
  {
   "cell_type": "code",
   "execution_count": 76,
   "id": "83257209-1110-4455-93cd-27e60c5439e6",
   "metadata": {},
   "outputs": [
    {
     "data": {
      "text/plain": [
       "90"
      ]
     },
     "execution_count": 76,
     "metadata": {},
     "output_type": "execute_result"
    }
   ],
   "source": [
    "series_idades.iloc[2]"
   ]
  },
  {
   "cell_type": "code",
   "execution_count": 78,
   "id": "9b6a6802-0ed7-484b-a9d7-77081d386d2e",
   "metadata": {},
   "outputs": [],
   "source": [
    "series_idades.name = 'idades'"
   ]
  },
  {
   "cell_type": "code",
   "execution_count": 82,
   "id": "a7a7a951-75fd-41fc-86e0-923b8805b26c",
   "metadata": {},
   "outputs": [
    {
     "data": {
      "text/plain": [
       "0    30\n",
       "1    42\n",
       "2    90\n",
       "3    34\n",
       "Name: idades, dtype: int64"
      ]
     },
     "execution_count": 82,
     "metadata": {},
     "output_type": "execute_result"
    }
   ],
   "source": [
    "series_idades = pd.Series(idades, name='idades')\n",
    "series_idades"
   ]
  },
  {
   "cell_type": "code",
   "execution_count": null,
   "id": "b41b81a3-596d-45ad-ba58-550552401118",
   "metadata": {},
   "outputs": [],
   "source": []
  }
 ],
 "metadata": {
  "kernelspec": {
   "display_name": "Python 3 (ipykernel)",
   "language": "python",
   "name": "python3"
  },
  "language_info": {
   "codemirror_mode": {
    "name": "ipython",
    "version": 3
   },
   "file_extension": ".py",
   "mimetype": "text/x-python",
   "name": "python",
   "nbconvert_exporter": "python",
   "pygments_lexer": "ipython3",
   "version": "3.12.4"
  }
 },
 "nbformat": 4,
 "nbformat_minor": 5
}
