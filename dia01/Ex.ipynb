{
 "cells": [
  {
   "cell_type": "code",
   "execution_count": 1,
   "id": "ce8c4832-240b-48ba-bf15-8d9f7c13228d",
   "metadata": {},
   "outputs": [],
   "source": [
    "# 1. Converta a seguinte lista de dados para uma Series Pandas e obtenha: \n",
    "# Media\n",
    "# Desvio Padrão \n",
    "# Máximo Valor\n",
    "# dados = [10, 20, 42, 9, 12, 35, 24, 10, 8, 14, 21]"
   ]
  },
  {
   "cell_type": "code",
   "execution_count": 14,
   "id": "f791929a-388d-434a-ad47-ea5fb13b7424",
   "metadata": {},
   "outputs": [],
   "source": [
    "import pandas as pd"
   ]
  },
  {
   "cell_type": "code",
   "execution_count": 3,
   "id": "24d6c728-2cca-4a23-8804-44fc903e8d7a",
   "metadata": {},
   "outputs": [],
   "source": [
    "dados = [10, 20, 42, 9, 12, 35, 24, 10, 8, 14, 21]"
   ]
  },
  {
   "cell_type": "code",
   "execution_count": 5,
   "id": "c8bab09b-3068-41cd-ba62-f7abda4780fa",
   "metadata": {},
   "outputs": [
    {
     "data": {
      "text/plain": [
       "0     10\n",
       "1     20\n",
       "2     42\n",
       "3      9\n",
       "4     12\n",
       "5     35\n",
       "6     24\n",
       "7     10\n",
       "8      8\n",
       "9     14\n",
       "10    21\n",
       "dtype: int64"
      ]
     },
     "execution_count": 5,
     "metadata": {},
     "output_type": "execute_result"
    }
   ],
   "source": [
    "infos = pd.Series(dados)\n",
    "infos"
   ]
  },
  {
   "cell_type": "code",
   "execution_count": 7,
   "id": "26b104c4-8601-42d7-a73b-7e1ea8e00436",
   "metadata": {},
   "outputs": [
    {
     "data": {
      "text/plain": [
       "18.636363636363637"
      ]
     },
     "execution_count": 7,
     "metadata": {},
     "output_type": "execute_result"
    }
   ],
   "source": [
    "infos.mean()"
   ]
  },
  {
   "cell_type": "code",
   "execution_count": 13,
   "id": "5d7bea7e-b871-485d-9787-f39d4f3fedc0",
   "metadata": {},
   "outputs": [
    {
     "data": {
      "text/plain": [
       "11.271847472998623"
      ]
     },
     "execution_count": 13,
     "metadata": {},
     "output_type": "execute_result"
    }
   ],
   "source": [
    "infos.std()"
   ]
  },
  {
   "cell_type": "code",
   "execution_count": 15,
   "id": "e7bb73c2-c3c0-449e-a82b-998aaa760bff",
   "metadata": {},
   "outputs": [
    {
     "data": {
      "text/plain": [
       "42"
      ]
     },
     "execution_count": 15,
     "metadata": {},
     "output_type": "execute_result"
    }
   ],
   "source": [
    "infos.max()"
   ]
  },
  {
   "cell_type": "code",
   "execution_count": null,
   "id": "25234fe4-f26e-4900-9515-bee7f8ff5604",
   "metadata": {},
   "outputs": [],
   "source": [
    "# 2. Converta o seguinte dicionário para DataFrame e obtenha:\n",
    "# Súmario de cada coluna\n",
    "# Média da coluna idade\n",
    "# Último nome da coluna nome \n",
    "# dados = {\"nomes\":[\"Teo\" , \"Nah\", \"Napoleao\"],\"idade\":[31, 32, 14]}"
   ]
  },
  {
   "cell_type": "code",
   "execution_count": 28,
   "id": "c0bf46d0-9d8b-4d15-b5e6-629d93c90a3e",
   "metadata": {},
   "outputs": [],
   "source": [
    "dados = {\n",
    "    \"nome\":[\"Teo\" , \"Nah\", \"Napoleao\"],\n",
    "    \"idade\":[31, 32, 14]\n",
    "}"
   ]
  },
  {
   "cell_type": "code",
   "execution_count": 30,
   "id": "875562e8-cdb0-4e46-98f5-525571ab4be5",
   "metadata": {},
   "outputs": [
    {
     "data": {
      "text/html": [
       "<div>\n",
       "<style scoped>\n",
       "    .dataframe tbody tr th:only-of-type {\n",
       "        vertical-align: middle;\n",
       "    }\n",
       "\n",
       "    .dataframe tbody tr th {\n",
       "        vertical-align: top;\n",
       "    }\n",
       "\n",
       "    .dataframe thead th {\n",
       "        text-align: right;\n",
       "    }\n",
       "</style>\n",
       "<table border=\"1\" class=\"dataframe\">\n",
       "  <thead>\n",
       "    <tr style=\"text-align: right;\">\n",
       "      <th></th>\n",
       "      <th>nome</th>\n",
       "      <th>idade</th>\n",
       "    </tr>\n",
       "  </thead>\n",
       "  <tbody>\n",
       "    <tr>\n",
       "      <th>0</th>\n",
       "      <td>Teo</td>\n",
       "      <td>31</td>\n",
       "    </tr>\n",
       "    <tr>\n",
       "      <th>1</th>\n",
       "      <td>Nah</td>\n",
       "      <td>32</td>\n",
       "    </tr>\n",
       "    <tr>\n",
       "      <th>2</th>\n",
       "      <td>Napoleao</td>\n",
       "      <td>14</td>\n",
       "    </tr>\n",
       "  </tbody>\n",
       "</table>\n",
       "</div>"
      ],
      "text/plain": [
       "       nome  idade\n",
       "0       Teo     31\n",
       "1       Nah     32\n",
       "2  Napoleao     14"
      ]
     },
     "execution_count": 30,
     "metadata": {},
     "output_type": "execute_result"
    }
   ],
   "source": [
    "df = pd.DataFrame(dados)\n",
    "df"
   ]
  },
  {
   "cell_type": "code",
   "execution_count": 32,
   "id": "bf979bec-761a-475e-8d6f-084962db6679",
   "metadata": {},
   "outputs": [
    {
     "data": {
      "text/html": [
       "<div>\n",
       "<style scoped>\n",
       "    .dataframe tbody tr th:only-of-type {\n",
       "        vertical-align: middle;\n",
       "    }\n",
       "\n",
       "    .dataframe tbody tr th {\n",
       "        vertical-align: top;\n",
       "    }\n",
       "\n",
       "    .dataframe thead th {\n",
       "        text-align: right;\n",
       "    }\n",
       "</style>\n",
       "<table border=\"1\" class=\"dataframe\">\n",
       "  <thead>\n",
       "    <tr style=\"text-align: right;\">\n",
       "      <th></th>\n",
       "      <th>idade</th>\n",
       "    </tr>\n",
       "  </thead>\n",
       "  <tbody>\n",
       "    <tr>\n",
       "      <th>count</th>\n",
       "      <td>3.000000</td>\n",
       "    </tr>\n",
       "    <tr>\n",
       "      <th>mean</th>\n",
       "      <td>25.666667</td>\n",
       "    </tr>\n",
       "    <tr>\n",
       "      <th>std</th>\n",
       "      <td>10.115994</td>\n",
       "    </tr>\n",
       "    <tr>\n",
       "      <th>min</th>\n",
       "      <td>14.000000</td>\n",
       "    </tr>\n",
       "    <tr>\n",
       "      <th>25%</th>\n",
       "      <td>22.500000</td>\n",
       "    </tr>\n",
       "    <tr>\n",
       "      <th>50%</th>\n",
       "      <td>31.000000</td>\n",
       "    </tr>\n",
       "    <tr>\n",
       "      <th>75%</th>\n",
       "      <td>31.500000</td>\n",
       "    </tr>\n",
       "    <tr>\n",
       "      <th>max</th>\n",
       "      <td>32.000000</td>\n",
       "    </tr>\n",
       "  </tbody>\n",
       "</table>\n",
       "</div>"
      ],
      "text/plain": [
       "           idade\n",
       "count   3.000000\n",
       "mean   25.666667\n",
       "std    10.115994\n",
       "min    14.000000\n",
       "25%    22.500000\n",
       "50%    31.000000\n",
       "75%    31.500000\n",
       "max    32.000000"
      ]
     },
     "execution_count": 32,
     "metadata": {},
     "output_type": "execute_result"
    }
   ],
   "source": [
    "df.describe()"
   ]
  },
  {
   "cell_type": "code",
   "execution_count": 34,
   "id": "67635fec-e13b-4bf4-b82a-c7b55b4830a1",
   "metadata": {},
   "outputs": [
    {
     "data": {
      "text/plain": [
       "count       3\n",
       "unique      3\n",
       "top       Teo\n",
       "freq        1\n",
       "Name: nome, dtype: object"
      ]
     },
     "execution_count": 34,
     "metadata": {},
     "output_type": "execute_result"
    }
   ],
   "source": [
    "df[\"nome\"].describe()"
   ]
  },
  {
   "cell_type": "code",
   "execution_count": 36,
   "id": "d85cb34b-39a7-485e-94b3-932a8f999bba",
   "metadata": {},
   "outputs": [
    {
     "data": {
      "text/plain": [
       "25.666666666666668"
      ]
     },
     "execution_count": 36,
     "metadata": {},
     "output_type": "execute_result"
    }
   ],
   "source": [
    "df[\"idade\"].mean()"
   ]
  },
  {
   "cell_type": "code",
   "execution_count": 38,
   "id": "de3f70fc-b3ff-4a12-9f89-51c75a6a7633",
   "metadata": {},
   "outputs": [
    {
     "data": {
      "text/plain": [
       "'Napoleao'"
      ]
     },
     "execution_count": 38,
     "metadata": {},
     "output_type": "execute_result"
    }
   ],
   "source": [
    "df[\"nome\"].iloc[-1]"
   ]
  },
  {
   "cell_type": "code",
   "execution_count": null,
   "id": "ff0b0d38-cc19-44da-922c-db7e9a2058b4",
   "metadata": {},
   "outputs": [],
   "source": []
  }
 ],
 "metadata": {
  "kernelspec": {
   "display_name": "Python 3 (ipykernel)",
   "language": "python",
   "name": "python3"
  },
  "language_info": {
   "codemirror_mode": {
    "name": "ipython",
    "version": 3
   },
   "file_extension": ".py",
   "mimetype": "text/x-python",
   "name": "python",
   "nbconvert_exporter": "python",
   "pygments_lexer": "ipython3",
   "version": "3.12.4"
  }
 },
 "nbformat": 4,
 "nbformat_minor": 5
}
