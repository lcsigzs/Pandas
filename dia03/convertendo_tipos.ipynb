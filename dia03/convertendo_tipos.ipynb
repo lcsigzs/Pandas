{
 "cells": [
  {
   "cell_type": "code",
   "execution_count": 2,
   "id": "b4da4fd7-e988-41b1-ac0d-4c95814f15e7",
   "metadata": {},
   "outputs": [],
   "source": [
    "import pandas as pd"
   ]
  },
  {
   "cell_type": "code",
   "execution_count": 4,
   "id": "810fc300-9297-4be9-8fa5-a0dd12c2c45e",
   "metadata": {},
   "outputs": [
    {
     "data": {
      "text/html": [
       "<div>\n",
       "<style scoped>\n",
       "    .dataframe tbody tr th:only-of-type {\n",
       "        vertical-align: middle;\n",
       "    }\n",
       "\n",
       "    .dataframe tbody tr th {\n",
       "        vertical-align: top;\n",
       "    }\n",
       "\n",
       "    .dataframe thead th {\n",
       "        text-align: right;\n",
       "    }\n",
       "</style>\n",
       "<table border=\"1\" class=\"dataframe\">\n",
       "  <thead>\n",
       "    <tr style=\"text-align: right;\">\n",
       "      <th></th>\n",
       "      <th>UUID</th>\n",
       "      <th>Name</th>\n",
       "      <th>Points</th>\n",
       "    </tr>\n",
       "  </thead>\n",
       "  <tbody>\n",
       "    <tr>\n",
       "      <th>0</th>\n",
       "      <td>aa3eaf74-6d9c-4859-b733-5a18a3b2f71b</td>\n",
       "      <td>afonso_rf</td>\n",
       "      <td>792</td>\n",
       "    </tr>\n",
       "    <tr>\n",
       "      <th>1</th>\n",
       "      <td>2d3d2dce-d353-4961-ad39-46723efe2100</td>\n",
       "      <td>mariicmartins</td>\n",
       "      <td>1375</td>\n",
       "    </tr>\n",
       "    <tr>\n",
       "      <th>2</th>\n",
       "      <td>ca95ef2a-5129-40f4-acbc-2ced25940032</td>\n",
       "      <td>tdlupus</td>\n",
       "      <td>421</td>\n",
       "    </tr>\n",
       "    <tr>\n",
       "      <th>3</th>\n",
       "      <td>65662aff-44d6-4f06-b9d9-07445c6e5943</td>\n",
       "      <td>kozat0</td>\n",
       "      <td>4063</td>\n",
       "    </tr>\n",
       "    <tr>\n",
       "      <th>4</th>\n",
       "      <td>98b960e7-6b7b-45b7-b7af-60bca40e04b9</td>\n",
       "      <td>gu1z17</td>\n",
       "      <td>0</td>\n",
       "    </tr>\n",
       "    <tr>\n",
       "      <th>...</th>\n",
       "      <td>...</td>\n",
       "      <td>...</td>\n",
       "      <td>...</td>\n",
       "    </tr>\n",
       "    <tr>\n",
       "      <th>786</th>\n",
       "      <td>4a36c617-b018-436a-babc-4374461ab87b</td>\n",
       "      <td>null__var</td>\n",
       "      <td>53</td>\n",
       "    </tr>\n",
       "    <tr>\n",
       "      <th>787</th>\n",
       "      <td>403db18e-941e-4e63-ba23-e63c0515876a</td>\n",
       "      <td>lmadriles</td>\n",
       "      <td>50</td>\n",
       "    </tr>\n",
       "    <tr>\n",
       "      <th>788</th>\n",
       "      <td>c9bfbbf9-db90-45a7-a72c-4118140038f4</td>\n",
       "      <td>eduardo_cofferri</td>\n",
       "      <td>50</td>\n",
       "    </tr>\n",
       "    <tr>\n",
       "      <th>789</th>\n",
       "      <td>4caa2fb3-7ed2-436d-bc35-390feebfdebe</td>\n",
       "      <td>marmschu</td>\n",
       "      <td>50</td>\n",
       "    </tr>\n",
       "    <tr>\n",
       "      <th>790</th>\n",
       "      <td>000ff655-fa9f-4baa-a108-47f581ec52a1</td>\n",
       "      <td>cajuuh</td>\n",
       "      <td>52</td>\n",
       "    </tr>\n",
       "  </tbody>\n",
       "</table>\n",
       "<p>791 rows × 3 columns</p>\n",
       "</div>"
      ],
      "text/plain": [
       "                                     UUID              Name  Points\n",
       "0    aa3eaf74-6d9c-4859-b733-5a18a3b2f71b         afonso_rf     792\n",
       "1    2d3d2dce-d353-4961-ad39-46723efe2100     mariicmartins    1375\n",
       "2    ca95ef2a-5129-40f4-acbc-2ced25940032           tdlupus     421\n",
       "3    65662aff-44d6-4f06-b9d9-07445c6e5943            kozat0    4063\n",
       "4    98b960e7-6b7b-45b7-b7af-60bca40e04b9            gu1z17       0\n",
       "..                                    ...               ...     ...\n",
       "786  4a36c617-b018-436a-babc-4374461ab87b         null__var      53\n",
       "787  403db18e-941e-4e63-ba23-e63c0515876a         lmadriles      50\n",
       "788  c9bfbbf9-db90-45a7-a72c-4118140038f4  eduardo_cofferri      50\n",
       "789  4caa2fb3-7ed2-436d-bc35-390feebfdebe          marmschu      50\n",
       "790  000ff655-fa9f-4baa-a108-47f581ec52a1            cajuuh      52\n",
       "\n",
       "[791 rows x 3 columns]"
      ]
     },
     "execution_count": 4,
     "metadata": {},
     "output_type": "execute_result"
    }
   ],
   "source": [
    "df = pd.read_csv(\"../data/customers.csv\", sep=';')\n",
    "df"
   ]
  },
  {
   "cell_type": "code",
   "execution_count": 6,
   "id": "3b81f6f4-d362-4015-8f65-db23c0ea6737",
   "metadata": {},
   "outputs": [
    {
     "data": {
      "text/plain": [
       "UUID      object\n",
       "Name      object\n",
       "Points     int64\n",
       "dtype: object"
      ]
     },
     "execution_count": 6,
     "metadata": {},
     "output_type": "execute_result"
    }
   ],
   "source": [
    "df.dtypes"
   ]
  },
  {
   "cell_type": "code",
   "execution_count": 8,
   "id": "7d83b0f1-1c5d-45c4-b4f3-6cb727b78b44",
   "metadata": {},
   "outputs": [
    {
     "data": {
      "text/plain": [
       "0       792\n",
       "1      1375\n",
       "2       421\n",
       "3      4063\n",
       "4         0\n",
       "       ... \n",
       "786      53\n",
       "787      50\n",
       "788      50\n",
       "789      50\n",
       "790      52\n",
       "Name: Points, Length: 791, dtype: object"
      ]
     },
     "execution_count": 8,
     "metadata": {},
     "output_type": "execute_result"
    }
   ],
   "source": [
    "df[\"Points\"].astype(str)"
   ]
  },
  {
   "cell_type": "code",
   "execution_count": 10,
   "id": "38c6a46f-960a-41cd-8ebb-b95eade0480f",
   "metadata": {},
   "outputs": [],
   "source": [
    "df[\"Points_dobble\"] = df[\"Points\"] * 2"
   ]
  },
  {
   "cell_type": "code",
   "execution_count": 12,
   "id": "173ad1ea-2766-4c2d-abd8-49d560ffa7e6",
   "metadata": {},
   "outputs": [
    {
     "data": {
      "text/html": [
       "<div>\n",
       "<style scoped>\n",
       "    .dataframe tbody tr th:only-of-type {\n",
       "        vertical-align: middle;\n",
       "    }\n",
       "\n",
       "    .dataframe tbody tr th {\n",
       "        vertical-align: top;\n",
       "    }\n",
       "\n",
       "    .dataframe thead th {\n",
       "        text-align: right;\n",
       "    }\n",
       "</style>\n",
       "<table border=\"1\" class=\"dataframe\">\n",
       "  <thead>\n",
       "    <tr style=\"text-align: right;\">\n",
       "      <th></th>\n",
       "      <th>Points</th>\n",
       "      <th>Points_dobble</th>\n",
       "    </tr>\n",
       "  </thead>\n",
       "  <tbody>\n",
       "    <tr>\n",
       "      <th>0</th>\n",
       "      <td>792</td>\n",
       "      <td>1584</td>\n",
       "    </tr>\n",
       "    <tr>\n",
       "      <th>1</th>\n",
       "      <td>1375</td>\n",
       "      <td>2750</td>\n",
       "    </tr>\n",
       "    <tr>\n",
       "      <th>2</th>\n",
       "      <td>421</td>\n",
       "      <td>842</td>\n",
       "    </tr>\n",
       "    <tr>\n",
       "      <th>3</th>\n",
       "      <td>4063</td>\n",
       "      <td>8126</td>\n",
       "    </tr>\n",
       "    <tr>\n",
       "      <th>4</th>\n",
       "      <td>0</td>\n",
       "      <td>0</td>\n",
       "    </tr>\n",
       "    <tr>\n",
       "      <th>...</th>\n",
       "      <td>...</td>\n",
       "      <td>...</td>\n",
       "    </tr>\n",
       "    <tr>\n",
       "      <th>786</th>\n",
       "      <td>53</td>\n",
       "      <td>106</td>\n",
       "    </tr>\n",
       "    <tr>\n",
       "      <th>787</th>\n",
       "      <td>50</td>\n",
       "      <td>100</td>\n",
       "    </tr>\n",
       "    <tr>\n",
       "      <th>788</th>\n",
       "      <td>50</td>\n",
       "      <td>100</td>\n",
       "    </tr>\n",
       "    <tr>\n",
       "      <th>789</th>\n",
       "      <td>50</td>\n",
       "      <td>100</td>\n",
       "    </tr>\n",
       "    <tr>\n",
       "      <th>790</th>\n",
       "      <td>52</td>\n",
       "      <td>104</td>\n",
       "    </tr>\n",
       "  </tbody>\n",
       "</table>\n",
       "<p>791 rows × 2 columns</p>\n",
       "</div>"
      ],
      "text/plain": [
       "    Points Points_dobble\n",
       "0      792          1584\n",
       "1     1375          2750\n",
       "2      421           842\n",
       "3     4063          8126\n",
       "4        0             0\n",
       "..     ...           ...\n",
       "786     53           106\n",
       "787     50           100\n",
       "788     50           100\n",
       "789     50           100\n",
       "790     52           104\n",
       "\n",
       "[791 rows x 2 columns]"
      ]
     },
     "execution_count": 12,
     "metadata": {},
     "output_type": "execute_result"
    }
   ],
   "source": [
    "df[[\"Points\", \"Points_dobble\"]].astype(str)"
   ]
  },
  {
   "cell_type": "code",
   "execution_count": null,
   "id": "4dccdb6b-1241-4571-be19-171467072201",
   "metadata": {},
   "outputs": [],
   "source": []
  }
 ],
 "metadata": {
  "kernelspec": {
   "display_name": "Python 3 (ipykernel)",
   "language": "python",
   "name": "python3"
  },
  "language_info": {
   "codemirror_mode": {
    "name": "ipython",
    "version": 3
   },
   "file_extension": ".py",
   "mimetype": "text/x-python",
   "name": "python",
   "nbconvert_exporter": "python",
   "pygments_lexer": "ipython3",
   "version": "3.12.4"
  }
 },
 "nbformat": 4,
 "nbformat_minor": 5
}
