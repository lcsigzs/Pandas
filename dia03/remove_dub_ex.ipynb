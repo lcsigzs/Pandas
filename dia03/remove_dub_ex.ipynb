{
 "cells": [
  {
   "cell_type": "code",
   "execution_count": 4,
   "id": "9ad7ea71-6689-485f-85f0-eda3752347d1",
   "metadata": {},
   "outputs": [],
   "source": [
    "import pandas as pd"
   ]
  },
  {
   "cell_type": "code",
   "execution_count": 5,
   "id": "36426ec2-d624-4da0-ba33-04814091e15d",
   "metadata": {},
   "outputs": [],
   "source": [
    "df = pd.read_excel(\"../data/transactions.xlsx\")"
   ]
  },
  {
   "cell_type": "code",
   "execution_count": 6,
   "id": "020a240d-37a0-4799-a4d8-503c3d99e9aa",
   "metadata": {},
   "outputs": [
    {
     "data": {
      "text/html": [
       "<div>\n",
       "<style scoped>\n",
       "    .dataframe tbody tr th:only-of-type {\n",
       "        vertical-align: middle;\n",
       "    }\n",
       "\n",
       "    .dataframe tbody tr th {\n",
       "        vertical-align: top;\n",
       "    }\n",
       "\n",
       "    .dataframe thead th {\n",
       "        text-align: right;\n",
       "    }\n",
       "</style>\n",
       "<table border=\"1\" class=\"dataframe\">\n",
       "  <thead>\n",
       "    <tr style=\"text-align: right;\">\n",
       "      <th></th>\n",
       "      <th>UUID</th>\n",
       "      <th>IdCustomer</th>\n",
       "      <th>DtTransaction</th>\n",
       "      <th>Points</th>\n",
       "    </tr>\n",
       "  </thead>\n",
       "  <tbody>\n",
       "    <tr>\n",
       "      <th>23501</th>\n",
       "      <td>07d25502-18a9-4107-b4af-9b5ba8b5a46d</td>\n",
       "      <td>5f8fcbe0-6014-43f8-8b83-38cf2f4887b3</td>\n",
       "      <td>2024-03-04 12:26:03.369</td>\n",
       "      <td>1</td>\n",
       "    </tr>\n",
       "    <tr>\n",
       "      <th>23500</th>\n",
       "      <td>7429b0a5-08a5-470c-8091-12f627d21911</td>\n",
       "      <td>f3a268f2-1788-47da-bc79-2680a1721254</td>\n",
       "      <td>2024-03-04 12:25:28.565</td>\n",
       "      <td>50</td>\n",
       "    </tr>\n",
       "    <tr>\n",
       "      <th>23499</th>\n",
       "      <td>827a1417-902c-4657-a0e5-4cef5d2bd8ca</td>\n",
       "      <td>0ed6b09e-4329-4d2a-837b-2aad4796cd3a</td>\n",
       "      <td>2024-03-04 12:25:13.024</td>\n",
       "      <td>1</td>\n",
       "    </tr>\n",
       "    <tr>\n",
       "      <th>23497</th>\n",
       "      <td>25500149-c2b8-4942-90f7-39f136d9fb1b</td>\n",
       "      <td>2d7f6b3f-9366-44c1-9663-beb5f7e1254e</td>\n",
       "      <td>2024-03-04 12:24:18.083</td>\n",
       "      <td>1</td>\n",
       "    </tr>\n",
       "    <tr>\n",
       "      <th>23495</th>\n",
       "      <td>aeb17cd4-36ae-43ae-9c18-c37fb91f292e</td>\n",
       "      <td>3f55b86f-dc21-4ac8-8e89-7c1535359eaf</td>\n",
       "      <td>2024-03-04 12:24:09.030</td>\n",
       "      <td>1</td>\n",
       "    </tr>\n",
       "    <tr>\n",
       "      <th>...</th>\n",
       "      <td>...</td>\n",
       "      <td>...</td>\n",
       "      <td>...</td>\n",
       "      <td>...</td>\n",
       "    </tr>\n",
       "    <tr>\n",
       "      <th>489</th>\n",
       "      <td>35b7039c-338d-4d50-a754-2ddaa0873ee5</td>\n",
       "      <td>98b960e7-6b7b-45b7-b7af-60bca40e04b9</td>\n",
       "      <td>2024-01-30 11:56:16.337</td>\n",
       "      <td>1</td>\n",
       "    </tr>\n",
       "    <tr>\n",
       "      <th>411</th>\n",
       "      <td>493bd37a-5a53-44c5-a5e4-46b49d55d379</td>\n",
       "      <td>be6ccf09-820d-43c9-9705-9fc381b682f7</td>\n",
       "      <td>2024-01-29 14:20:20.898</td>\n",
       "      <td>500</td>\n",
       "    </tr>\n",
       "    <tr>\n",
       "      <th>366</th>\n",
       "      <td>2c7d5654-fbb5-44c4-862a-2372f45a3a36</td>\n",
       "      <td>faf46096-5f3c-4419-befb-7365c881d2d6</td>\n",
       "      <td>2024-01-29 14:08:11.120</td>\n",
       "      <td>1</td>\n",
       "    </tr>\n",
       "    <tr>\n",
       "      <th>359</th>\n",
       "      <td>26a5525e-63bf-4ee1-a951-e4d9c8bbfae4</td>\n",
       "      <td>053f094b-a813-4417-9bb6-7a3d1737b089</td>\n",
       "      <td>2024-01-29 14:00:50.362</td>\n",
       "      <td>1</td>\n",
       "    </tr>\n",
       "    <tr>\n",
       "      <th>312</th>\n",
       "      <td>c9009246-d1b9-412c-8ce4-3828cfb3e151</td>\n",
       "      <td>317476ac-bfe4-427e-b611-06cdc5e80894</td>\n",
       "      <td>2024-01-29 13:41:13.582</td>\n",
       "      <td>1</td>\n",
       "    </tr>\n",
       "  </tbody>\n",
       "</table>\n",
       "<p>727 rows × 4 columns</p>\n",
       "</div>"
      ],
      "text/plain": [
       "                                       UUID  \\\n",
       "23501  07d25502-18a9-4107-b4af-9b5ba8b5a46d   \n",
       "23500  7429b0a5-08a5-470c-8091-12f627d21911   \n",
       "23499  827a1417-902c-4657-a0e5-4cef5d2bd8ca   \n",
       "23497  25500149-c2b8-4942-90f7-39f136d9fb1b   \n",
       "23495  aeb17cd4-36ae-43ae-9c18-c37fb91f292e   \n",
       "...                                     ...   \n",
       "489    35b7039c-338d-4d50-a754-2ddaa0873ee5   \n",
       "411    493bd37a-5a53-44c5-a5e4-46b49d55d379   \n",
       "366    2c7d5654-fbb5-44c4-862a-2372f45a3a36   \n",
       "359    26a5525e-63bf-4ee1-a951-e4d9c8bbfae4   \n",
       "312    c9009246-d1b9-412c-8ce4-3828cfb3e151   \n",
       "\n",
       "                                 IdCustomer           DtTransaction  Points  \n",
       "23501  5f8fcbe0-6014-43f8-8b83-38cf2f4887b3 2024-03-04 12:26:03.369       1  \n",
       "23500  f3a268f2-1788-47da-bc79-2680a1721254 2024-03-04 12:25:28.565      50  \n",
       "23499  0ed6b09e-4329-4d2a-837b-2aad4796cd3a 2024-03-04 12:25:13.024       1  \n",
       "23497  2d7f6b3f-9366-44c1-9663-beb5f7e1254e 2024-03-04 12:24:18.083       1  \n",
       "23495  3f55b86f-dc21-4ac8-8e89-7c1535359eaf 2024-03-04 12:24:09.030       1  \n",
       "...                                     ...                     ...     ...  \n",
       "489    98b960e7-6b7b-45b7-b7af-60bca40e04b9 2024-01-30 11:56:16.337       1  \n",
       "411    be6ccf09-820d-43c9-9705-9fc381b682f7 2024-01-29 14:20:20.898     500  \n",
       "366    faf46096-5f3c-4419-befb-7365c881d2d6 2024-01-29 14:08:11.120       1  \n",
       "359    053f094b-a813-4417-9bb6-7a3d1737b089 2024-01-29 14:00:50.362       1  \n",
       "312    317476ac-bfe4-427e-b611-06cdc5e80894 2024-01-29 13:41:13.582       1  \n",
       "\n",
       "[727 rows x 4 columns]"
      ]
     },
     "execution_count": 6,
     "metadata": {},
     "output_type": "execute_result"
    }
   ],
   "source": [
    "df = df.sort_values(\"DtTransaction\", ascending=False).drop_duplicates(subset=\"IdCustomer\", keep=\"first\")\n",
    "df"
   ]
  },
  {
   "cell_type": "code",
   "execution_count": 7,
   "id": "48b38f79-e6e2-4bee-a1b6-1ce630504405",
   "metadata": {},
   "outputs": [
    {
     "data": {
      "text/plain": [
       "727"
      ]
     },
     "execution_count": 7,
     "metadata": {},
     "output_type": "execute_result"
    }
   ],
   "source": [
    "df['IdCustomer'].nunique()"
   ]
  },
  {
   "cell_type": "code",
   "execution_count": null,
   "id": "53b6da67-6924-4230-b0b9-f4075d2d46aa",
   "metadata": {},
   "outputs": [],
   "source": []
  }
 ],
 "metadata": {
  "kernelspec": {
   "display_name": "Python 3 (ipykernel)",
   "language": "python",
   "name": "python3"
  },
  "language_info": {
   "codemirror_mode": {
    "name": "ipython",
    "version": 3
   },
   "file_extension": ".py",
   "mimetype": "text/x-python",
   "name": "python",
   "nbconvert_exporter": "python",
   "pygments_lexer": "ipython3",
   "version": "3.12.4"
  }
 },
 "nbformat": 4,
 "nbformat_minor": 5
}
